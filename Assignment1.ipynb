{
  "nbformat": 4,
  "nbformat_minor": 0,
  "metadata": {
    "colab": {
      "name": "Assignment1.ipynb",
      "provenance": []
    },
    "kernelspec": {
      "name": "python3",
      "display_name": "Python 3"
    },
    "language_info": {
      "name": "python"
    }
  },
  "cells": [
    {
      "cell_type": "markdown",
      "metadata": {
        "id": "7VYS27bQ1LXy"
      },
      "source": [
        "##Write the definition of tuple with a proper example?\n",
        "   Tuple is a collection  which is ordered and unchangeable.\n",
        "   For example, Student ID/Employee ID\n",
        "\n",
        "\n",
        "\n",
        "\n",
        "\n",
        "\n",
        "\n",
        "\n",
        "\n",
        "\n",
        "\n",
        "\n"
      ]
    },
    {
      "cell_type": "code",
      "metadata": {
        "colab": {
          "base_uri": "https://localhost:8080/"
        },
        "id": "cUusUiT405Nl",
        "outputId": "202e1ebe-045a-4e56-8306-e726d03e82e7"
      },
      "source": [
        "#Write the code for implementing sub dictionary inside dictionary\n",
        "dict ={\"Place\":\"Delhi\",\"Day\":\"Thursday\",\"info\":{\"year\":\"2021\",\"color\":\"white\",\"Id\":\"25\"}}\n",
        "print(dict[\"info\"])\n",
        "print(dict[\"info\"][\"Id\"])\n",
        "print(dict[\"Place\"])"
      ],
      "execution_count": 16,
      "outputs": [
        {
          "output_type": "stream",
          "text": [
            "{'year': '2021', 'color': 'white', 'Id': '25'}\n",
            "25\n",
            "Delhi\n"
          ],
          "name": "stdout"
        }
      ]
    }
  ]
}